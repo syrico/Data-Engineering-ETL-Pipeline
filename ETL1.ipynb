{
 "cells": [
  {
   "cell_type": "code",
   "execution_count": 6,
   "metadata": {},
   "outputs": [],
   "source": [
    "import pandas as pd\n",
    "import psycopg2\n",
    "import psycopg2.extras as extras\n",
    "import matplotlib.pyplot as plt"
   ]
  },
  {
   "cell_type": "markdown",
   "metadata": {},
   "source": [
    "# Make a class for connection and select query to PSQL using psycopg2"
   ]
  },
  {
   "cell_type": "code",
   "execution_count": 7,
   "metadata": {},
   "outputs": [],
   "source": [
    "class MyDB():\n",
    "    def koneksi(self, host, db, user, pw, port):\n",
    "            self.conn = psycopg2.connect(host=host, database=db, user=user, password=pw, port=port )\n",
    "            self.cur = self.conn.cursor()\n",
    "        \n",
    "            print('DB CONNECTED')\n",
    "            print(self.conn.get_dsn_parameters())\n",
    "\n",
    "    def queryselect(self, query):\n",
    "            try:\n",
    "                cols=[]\n",
    "                self.cur.execute(query)\n",
    "                self.conn.commit()\n",
    "                data=self.cur.fetchall()\n",
    "                print(self.cur.description[0])\n",
    "                print(self.cur.description[1])\n",
    "                #print(data)\n",
    "                for elt in self.cur.description:\n",
    "                    cols.append(elt[0])\n",
    "                print(cols)\n",
    "                df=pd.DataFrame(data=data, columns=cols)\n",
    "\n",
    "                print('oke')\n",
    "                return df\n",
    "            except Exception as err:\n",
    "                print('Error', err)                \n",
    "\n",
    "    def close(self):\n",
    "            self.cur.close()\n",
    "            self.conn.close()"
   ]
  },
  {
   "cell_type": "code",
   "execution_count": 9,
   "metadata": {},
   "outputs": [
    {
     "name": "stdout",
     "output_type": "stream",
     "text": [
      "DB CONNECTED\n",
      "{'user': 'postgres', 'channel_binding': 'prefer', 'dbname': 'DVDRental', 'host': '192.168.133.54', 'port': '5432', 'tty': '', 'options': '', 'sslmode': 'prefer', 'sslcompression': '0', 'ssl_min_protocol_version': 'TLSv1.2', 'gssencmode': 'prefer', 'krbsrvname': 'postgres', 'target_session_attrs': 'any'}\n"
     ]
    }
   ],
   "source": [
    "Database=MyDB()\n",
    "Koneksi=Database.koneksi('192.168.133.54','DVDRental','postgres','polines2015','5432')"
   ]
  },
  {
   "cell_type": "code",
   "execution_count": 10,
   "metadata": {},
   "outputs": [
    {
     "name": "stdout",
     "output_type": "stream",
     "text": [
      "Column(name='full_name', type_code=25)\n",
      "Column(name='address', type_code=1043)\n",
      "['full_name', 'address', 'city', 'country', 'title', 'rental_duration', 'name', 'rental_date', 'payment_date']\n",
      "oke\n"
     ]
    }
   ],
   "source": [
    "DataDF=Database.queryselect(\"\"\"select concat(c.first_name,' ',c.last_name) as full_name, a.address, city.city, c3.country, \n",
    "f.title, f.rental_duration, c2.name, r.rental_date, p.payment_date from payment p left join customer c on p.customer_id = c.customer_id left join address a on c.address_id =a.address_id left join city on a.city_id = city.city_id left join rental r on p.rental_id =r.rental_id left join inventory i on r.inventory_id =i.inventory_id left join film f on i.film_id =f.film_id left join film_category fc on f.film_id =fc.film_id left join category c2 on fc.category_id =c2.category_id left join country c3 on city.country_id =c3.country_id where p.payment_date < now() order by payment_date ; \"\"\")"
   ]
  },
  {
   "cell_type": "code",
   "execution_count": 11,
   "metadata": {},
   "outputs": [
    {
     "data": {
      "text/html": [
       "<div>\n",
       "<style scoped>\n",
       "    .dataframe tbody tr th:only-of-type {\n",
       "        vertical-align: middle;\n",
       "    }\n",
       "\n",
       "    .dataframe tbody tr th {\n",
       "        vertical-align: top;\n",
       "    }\n",
       "\n",
       "    .dataframe thead th {\n",
       "        text-align: right;\n",
       "    }\n",
       "</style>\n",
       "<table border=\"1\" class=\"dataframe\">\n",
       "  <thead>\n",
       "    <tr style=\"text-align: right;\">\n",
       "      <th></th>\n",
       "      <th>full_name</th>\n",
       "      <th>address</th>\n",
       "      <th>city</th>\n",
       "      <th>country</th>\n",
       "      <th>title</th>\n",
       "      <th>rental_duration</th>\n",
       "      <th>name</th>\n",
       "      <th>rental_date</th>\n",
       "      <th>payment_date</th>\n",
       "    </tr>\n",
       "  </thead>\n",
       "  <tbody>\n",
       "    <tr>\n",
       "      <th>0</th>\n",
       "      <td>Jeffery Pinson</td>\n",
       "      <td>966 Arecibo Loop</td>\n",
       "      <td>Dadu</td>\n",
       "      <td>Pakistan</td>\n",
       "      <td>Giant Troopers</td>\n",
       "      <td>5</td>\n",
       "      <td>Children</td>\n",
       "      <td>2020-12-14 22:53:33</td>\n",
       "      <td>2021-08-14 21:21:59.996577</td>\n",
       "    </tr>\n",
       "    <tr>\n",
       "      <th>1</th>\n",
       "      <td>Elmer Noe</td>\n",
       "      <td>1768 Udine Loop</td>\n",
       "      <td>Battambang</td>\n",
       "      <td>Cambodia</td>\n",
       "      <td>Wash Heavenly</td>\n",
       "      <td>7</td>\n",
       "      <td>Foreign</td>\n",
       "      <td>2020-12-14 22:55:13</td>\n",
       "      <td>2021-08-14 21:23:39.996577</td>\n",
       "    </tr>\n",
       "    <tr>\n",
       "      <th>2</th>\n",
       "      <td>Minnie Romero</td>\n",
       "      <td>47 Syktyvkar Lane</td>\n",
       "      <td>Ciomas</td>\n",
       "      <td>Indonesia</td>\n",
       "      <td>Name Detective</td>\n",
       "      <td>5</td>\n",
       "      <td>Games</td>\n",
       "      <td>2020-12-14 23:00:34</td>\n",
       "      <td>2021-08-14 21:29:00.996577</td>\n",
       "    </tr>\n",
       "    <tr>\n",
       "      <th>3</th>\n",
       "      <td>Terrance Roush</td>\n",
       "      <td>42 Fontana Avenue</td>\n",
       "      <td>Szkesfehrvr</td>\n",
       "      <td>Hungary</td>\n",
       "      <td>Truman Crazy</td>\n",
       "      <td>7</td>\n",
       "      <td>Action</td>\n",
       "      <td>2020-12-14 23:12:46</td>\n",
       "      <td>2021-08-14 21:41:12.996577</td>\n",
       "    </tr>\n",
       "    <tr>\n",
       "      <th>4</th>\n",
       "      <td>Joyce Edwards</td>\n",
       "      <td>725 Isesaki Place</td>\n",
       "      <td>Jedda</td>\n",
       "      <td>Saudi Arabia</td>\n",
       "      <td>Sleuth Orient</td>\n",
       "      <td>4</td>\n",
       "      <td>Games</td>\n",
       "      <td>2020-12-14 23:16:26</td>\n",
       "      <td>2021-08-14 21:44:52.996577</td>\n",
       "    </tr>\n",
       "    <tr>\n",
       "      <th>...</th>\n",
       "      <td>...</td>\n",
       "      <td>...</td>\n",
       "      <td>...</td>\n",
       "      <td>...</td>\n",
       "      <td>...</td>\n",
       "      <td>...</td>\n",
       "      <td>...</td>\n",
       "      <td>...</td>\n",
       "      <td>...</td>\n",
       "    </tr>\n",
       "    <tr>\n",
       "      <th>14409</th>\n",
       "      <td>Clyde Tobias</td>\n",
       "      <td>1909 Dayton Avenue</td>\n",
       "      <td>Shaoguan</td>\n",
       "      <td>China</td>\n",
       "      <td>Lock Rear</td>\n",
       "      <td>7</td>\n",
       "      <td>Travel</td>\n",
       "      <td>2021-01-31 01:18:53</td>\n",
       "      <td>2021-10-30 23:47:19.996577</td>\n",
       "    </tr>\n",
       "    <tr>\n",
       "      <th>14410</th>\n",
       "      <td>Daniel Cabral</td>\n",
       "      <td>543 Bergamo Avenue</td>\n",
       "      <td>Ibirit</td>\n",
       "      <td>Brazil</td>\n",
       "      <td>Married Go</td>\n",
       "      <td>7</td>\n",
       "      <td>Sci-Fi</td>\n",
       "      <td>2021-01-31 01:19:02</td>\n",
       "      <td>2021-10-30 23:47:28.996577</td>\n",
       "    </tr>\n",
       "    <tr>\n",
       "      <th>14411</th>\n",
       "      <td>Shane Millard</td>\n",
       "      <td>184 Mandaluyong Street</td>\n",
       "      <td>La Paz</td>\n",
       "      <td>Mexico</td>\n",
       "      <td>Caper Motions</td>\n",
       "      <td>6</td>\n",
       "      <td>Comedy</td>\n",
       "      <td>2021-01-31 01:23:00</td>\n",
       "      <td>2021-10-30 23:51:26.996577</td>\n",
       "    </tr>\n",
       "    <tr>\n",
       "      <th>14412</th>\n",
       "      <td>Arnold Havens</td>\n",
       "      <td>1176 Southend-on-Sea Manor</td>\n",
       "      <td>Santa Rosa</td>\n",
       "      <td>Philippines</td>\n",
       "      <td>Family Sweet</td>\n",
       "      <td>4</td>\n",
       "      <td>Horror</td>\n",
       "      <td>2021-02-01 01:23:15</td>\n",
       "      <td>2021-10-30 23:51:41.996577</td>\n",
       "    </tr>\n",
       "    <tr>\n",
       "      <th>14413</th>\n",
       "      <td>Nicole Peterson</td>\n",
       "      <td>57 Arlington Manor</td>\n",
       "      <td>Shivapuri</td>\n",
       "      <td>India</td>\n",
       "      <td>Rouge Squad</td>\n",
       "      <td>3</td>\n",
       "      <td>Games</td>\n",
       "      <td>2021-01-31 01:25:22</td>\n",
       "      <td>2021-10-30 23:53:48.996577</td>\n",
       "    </tr>\n",
       "  </tbody>\n",
       "</table>\n",
       "<p>14414 rows × 9 columns</p>\n",
       "</div>"
      ],
      "text/plain": [
       "             full_name                     address         city       country  \\\n",
       "0       Jeffery Pinson            966 Arecibo Loop         Dadu      Pakistan   \n",
       "1            Elmer Noe             1768 Udine Loop   Battambang      Cambodia   \n",
       "2        Minnie Romero           47 Syktyvkar Lane       Ciomas     Indonesia   \n",
       "3       Terrance Roush           42 Fontana Avenue  Szkesfehrvr       Hungary   \n",
       "4        Joyce Edwards           725 Isesaki Place        Jedda  Saudi Arabia   \n",
       "...                ...                         ...          ...           ...   \n",
       "14409     Clyde Tobias          1909 Dayton Avenue     Shaoguan         China   \n",
       "14410    Daniel Cabral          543 Bergamo Avenue       Ibirit        Brazil   \n",
       "14411    Shane Millard      184 Mandaluyong Street       La Paz        Mexico   \n",
       "14412    Arnold Havens  1176 Southend-on-Sea Manor   Santa Rosa   Philippines   \n",
       "14413  Nicole Peterson          57 Arlington Manor    Shivapuri         India   \n",
       "\n",
       "                title  rental_duration      name         rental_date  \\\n",
       "0      Giant Troopers                5  Children 2020-12-14 22:53:33   \n",
       "1       Wash Heavenly                7   Foreign 2020-12-14 22:55:13   \n",
       "2      Name Detective                5     Games 2020-12-14 23:00:34   \n",
       "3        Truman Crazy                7    Action 2020-12-14 23:12:46   \n",
       "4       Sleuth Orient                4     Games 2020-12-14 23:16:26   \n",
       "...               ...              ...       ...                 ...   \n",
       "14409       Lock Rear                7    Travel 2021-01-31 01:18:53   \n",
       "14410      Married Go                7    Sci-Fi 2021-01-31 01:19:02   \n",
       "14411   Caper Motions                6    Comedy 2021-01-31 01:23:00   \n",
       "14412    Family Sweet                4    Horror 2021-02-01 01:23:15   \n",
       "14413     Rouge Squad                3     Games 2021-01-31 01:25:22   \n",
       "\n",
       "                    payment_date  \n",
       "0     2021-08-14 21:21:59.996577  \n",
       "1     2021-08-14 21:23:39.996577  \n",
       "2     2021-08-14 21:29:00.996577  \n",
       "3     2021-08-14 21:41:12.996577  \n",
       "4     2021-08-14 21:44:52.996577  \n",
       "...                          ...  \n",
       "14409 2021-10-30 23:47:19.996577  \n",
       "14410 2021-10-30 23:47:28.996577  \n",
       "14411 2021-10-30 23:51:26.996577  \n",
       "14412 2021-10-30 23:51:41.996577  \n",
       "14413 2021-10-30 23:53:48.996577  \n",
       "\n",
       "[14414 rows x 9 columns]"
      ]
     },
     "execution_count": 11,
     "metadata": {},
     "output_type": "execute_result"
    }
   ],
   "source": [
    "DataDF"
   ]
  },
  {
   "cell_type": "markdown",
   "metadata": {},
   "source": [
    "# Check null or drop\n",
    "with DataDF.dropna(how='any').shape"
   ]
  },
  {
   "cell_type": "code",
   "execution_count": 6,
   "metadata": {},
   "outputs": [
    {
     "data": {
      "text/plain": [
       "full_name          0\n",
       "address            0\n",
       "city               0\n",
       "country            0\n",
       "title              0\n",
       "rental_duration    0\n",
       "name               0\n",
       "rental_date        0\n",
       "payment_date       0\n",
       "dtype: int64"
      ]
     },
     "execution_count": 6,
     "metadata": {},
     "output_type": "execute_result"
    }
   ],
   "source": [
    "DataDF.isnull().sum()"
   ]
  },
  {
   "cell_type": "markdown",
   "metadata": {},
   "source": [
    "# Count by country most rent"
   ]
  },
  {
   "cell_type": "code",
   "execution_count": 12,
   "metadata": {},
   "outputs": [
    {
     "data": {
      "text/html": [
       "<div>\n",
       "<style scoped>\n",
       "    .dataframe tbody tr th:only-of-type {\n",
       "        vertical-align: middle;\n",
       "    }\n",
       "\n",
       "    .dataframe tbody tr th {\n",
       "        vertical-align: top;\n",
       "    }\n",
       "\n",
       "    .dataframe thead th {\n",
       "        text-align: right;\n",
       "    }\n",
       "</style>\n",
       "<table border=\"1\" class=\"dataframe\">\n",
       "  <thead>\n",
       "    <tr style=\"text-align: right;\">\n",
       "      <th></th>\n",
       "      <th>country</th>\n",
       "      <th>counts</th>\n",
       "    </tr>\n",
       "  </thead>\n",
       "  <tbody>\n",
       "    <tr>\n",
       "      <th>42</th>\n",
       "      <td>India</td>\n",
       "      <td>1399</td>\n",
       "    </tr>\n",
       "    <tr>\n",
       "      <th>21</th>\n",
       "      <td>China</td>\n",
       "      <td>1284</td>\n",
       "    </tr>\n",
       "    <tr>\n",
       "      <th>101</th>\n",
       "      <td>United States</td>\n",
       "      <td>858</td>\n",
       "    </tr>\n",
       "    <tr>\n",
       "      <th>48</th>\n",
       "      <td>Japan</td>\n",
       "      <td>740</td>\n",
       "    </tr>\n",
       "    <tr>\n",
       "      <th>58</th>\n",
       "      <td>Mexico</td>\n",
       "      <td>712</td>\n",
       "    </tr>\n",
       "  </tbody>\n",
       "</table>\n",
       "</div>"
      ],
      "text/plain": [
       "           country  counts\n",
       "42           India    1399\n",
       "21           China    1284\n",
       "101  United States     858\n",
       "48           Japan     740\n",
       "58          Mexico     712"
      ]
     },
     "execution_count": 12,
     "metadata": {},
     "output_type": "execute_result"
    }
   ],
   "source": [
    "# DataDataDF.groupby(DataDF['country']).count()\n",
    "#DataDF.head(5)\n",
    "#DataDF.sort_values(['country'], ascending=True)\n",
    "# DataDF[DataDF['country']=='Afghanistan']\n",
    "CountByCountry=DataDF.groupby(DataDF['country']).size().reset_index(name='counts').sort_values(['counts'], ascending=False).head(5)\n",
    "CountByCountry"
   ]
  },
  {
   "cell_type": "code",
   "execution_count": 13,
   "metadata": {},
   "outputs": [
    {
     "data": {
      "image/png": "[encoded data removed]",
      "text/plain": [
       "<Figure size 720x360 with 1 Axes>"
      ]
     },
     "metadata": {
      "needs_background": "light"
     },
     "output_type": "display_data"
    }
   ],
   "source": [
    "fig=plt.figure(figsize=(10,5))\n",
    "plt.bar(CountByCountry['country'], CountByCountry['counts'])\n",
    "plt.xlabel('Country')\n",
    "plt.ylabel('Counts')\n",
    "plt.title('Top 5 Most Country Rent')\n",
    "plt.show()"
   ]
  },
  {
   "cell_type": "code",
   "execution_count": 14,
   "metadata": {},
   "outputs": [
    {
     "data": {
      "text/plain": [
       "Index(['full_name', 'address', 'city', 'country', 'title', 'rental_duration',\n",
       "       'name', 'rental_date', 'payment_date'],\n",
       "      dtype='object')"
      ]
     },
     "execution_count": 14,
     "metadata": {},
     "output_type": "execute_result"
    }
   ],
   "source": [
    "DataDF.columns"
   ]
  },
  {
   "cell_type": "code",
   "execution_count": 14,
   "metadata": {},
   "outputs": [],
   "source": [
    "Database.close()"
   ]
  },
  {
   "cell_type": "markdown",
   "metadata": {},
   "source": [
    "# Load to PSQL using **SQLAlchemi and String.IO**\n",
    "### The io module provides Python’s main facilities for dealing with various types of I/O. There are three main types of I/O: text I/O, binary I/O and raw I/O. These are generic categories, and various backing stores can be used for each of them. A concrete object belonging to any of these categories is called a file object. Other common terms are stream and file-like object \n",
    "https://docs.python.org/3/library/io.html"
   ]
  },
  {
   "cell_type": "code",
   "execution_count": 15,
   "metadata": {},
   "outputs": [],
   "source": [
    "from io import StringIO\n",
    "from sqlalchemy import create_engine"
   ]
  },
  {
   "cell_type": "code",
   "execution_count": 16,
   "metadata": {},
   "outputs": [],
   "source": [
    "username = 'postgres' # replace with your username\n",
    "password = 'polines2015' # replace with your password\n",
    "ipaddress = '192.168.133.54' # change this to your db’s IP address is if not Panoply\n",
    "port = 5432 # this is the standard port for Postgres, but change it to your port if needed\n",
    "dbname = 'DVDRental' # change this to...you guessed it...the name of your db\n",
    "\n",
    "\n",
    "# A long string that contains the necessary Postgres login information\n",
    "postgres_str = f'postgresql://{username}:{password}@{ipaddress}:{port}/{dbname}'\n",
    "          \n",
    "# Create the connection\n",
    "cnx = create_engine(postgres_str)"
   ]
  },
  {
   "cell_type": "code",
   "execution_count": 19,
   "metadata": {},
   "outputs": [],
   "source": [
    "#DataDF.head(0)\n",
    "DataDF.head(0).to_sql('my_cool_table', con=cnx, index=False)"
   ]
  },
  {
   "cell_type": "code",
   "execution_count": 21,
   "metadata": {},
   "outputs": [],
   "source": [
    "raw_con = cnx.raw_connection() # assuming you set up cnx as above\n",
    "cur  = raw_con.cursor()\n",
    "out = StringIO()\n",
    "\n",
    "DataDF.to_csv(out, sep='\\t', header=False, index=False) \n",
    "\n",
    "out.seek(0) # sets the pointer on the file object to the first line\n",
    "contents = out.getvalue()\n",
    "cur.copy_from(out, 'my_cool_table', null=\"\") # copies the contents of the file object into the SQL cursor and sets null values to empty strings\n",
    "raw_con.commit()"
   ]
  },
  {
   "cell_type": "code",
   "execution_count": null,
   "metadata": {},
   "outputs": [],
   "source": [
    "def execute_values(conn, df, table):\n",
    "    \"\"\"\n",
    "    Using psycopg2.extras.execute_values() to insert the dataframe\n",
    "    \"\"\"\n",
    "    # Create a list of tupples from the dataframe values\n",
    "    tuples = [tuple(x) for x in df.to_numpy()]\n",
    "    # Comma-separated dataframe columns\n",
    "    cols = ','.join(list(df.columns))\n",
    "    # SQL quert to execute\n",
    "    query  = \"INSERT INTO %s(%s) VALUES %%s\" % (table, cols)\n",
    "    cursor = conn.cursor()\n",
    "    try:\n",
    "        extras.execute_values(cursor, query, tuples)\n",
    "        conn.commit()\n",
    "    except (Exception, psycopg2.DatabaseError) as error:\n",
    "        print(\"Error: %s\" % error)\n",
    "        conn.rollback()\n",
    "        cursor.close()\n",
    "        return 1\n",
    "    print(\"execute_values() done\")\n",
    "    cursor.close()"
   ]
  }
 ],
 "metadata": {
  "interpreter": {
   "hash": "3e3a8d9e1bdd751e6c595100c6916840d89a17b6efd27c955b9a2c1ae176a285"
  },
  "kernelspec": {
   "display_name": "Python 3.8.10 64-bit ('portofolio': venv)",
   "name": "python3"
  },
  "language_info": {
   "codemirror_mode": {
    "name": "ipython",
    "version": 3
   },
   "file_extension": ".py",
   "mimetype": "text/x-python",
   "name": "python",
   "nbconvert_exporter": "python",
   "pygments_lexer": "ipython3",
   "version": "3.8.10"
  },
  "orig_nbformat": 4
 },
 "nbformat": 4,
 "nbformat_minor": 2
}
